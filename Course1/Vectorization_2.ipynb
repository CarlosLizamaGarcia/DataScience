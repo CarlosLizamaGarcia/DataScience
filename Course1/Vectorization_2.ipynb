{
 "cells": [
  {
   "cell_type": "code",
   "execution_count": 1,
   "metadata": {},
   "outputs": [],
   "source": [
    "import numpy as np\n",
    "import time"
   ]
  },
  {
   "cell_type": "code",
   "execution_count": 4,
   "metadata": {},
   "outputs": [
    {
     "name": "stdout",
     "output_type": "stream",
     "text": [
      "np.zeros(4) : a = [0. 0. 0. 0.], a shape = (4,), a data type = float64\n",
      "np.zeros(4,) : a = [0. 0. 0. 0.], a shpae = (4,), a data type = float64\n",
      "np.random.random_sample(4): a = [0.9089928  0.20629781 0.67152174 0.85726035], a shape = (4,), a data type = float64\n"
     ]
    }
   ],
   "source": [
    "#Numpy Broadcasting\n",
    "\n",
    "#Numpy will have a fisrt parameter which is the shape of the object\n",
    "\n",
    "#Numpy routines which allocate memory and fill arrays with value\n",
    "a = np.zeros(4); print(f\"np.zeros(4) : a = {a}, a shape = {a.shape}, a data type = {a.dtype}\")\n",
    "a = np.zeros((4,)); print(f\"np.zeros(4,) : a = {a}, a shpae = {a.shape}, a data type = {a.dtype}\")\n",
    "a = np.random.random_sample(4); print(f\"np.random.random_sample(4): a = {a}, a shape = {a.shape}, a data type = {a.dtype}\")"
   ]
  },
  {
   "cell_type": "code",
   "execution_count": 5,
   "metadata": {},
   "outputs": [
    {
     "name": "stdout",
     "output_type": "stream",
     "text": [
      "np.array([5,4,3,2]): a = [5 4 3 2], a shape = (4,), a data type = int64\n",
      "np.array([5.,4,3,2]) a = [5. 4. 3. 2.], a shape = (4,), a data type = float64\n"
     ]
    }
   ],
   "source": [
    "#NumPy routines which allocate memory and fill with user specified values\n",
    "\n",
    "a = np.array([5,4,3,2]); print(f\"np.array([5,4,3,2]): a = {a}, a shape = {a.shape}, a data type = {a.dtype}\")\n",
    "a = np.array([5.,4,3,2]); print(f\"np.array([5.,4,3,2]) a = {a}, a shape = {a.shape}, a data type = {a.dtype}\")"
   ]
  },
  {
   "cell_type": "code",
   "execution_count": 7,
   "metadata": {},
   "outputs": [
    {
     "name": "stdout",
     "output_type": "stream",
     "text": [
      "np.arange(4.): a = [0. 1. 2. 3.], a shape = (4,), a data type = float64\n",
      "no.random.rand(4): a = [0.0919637  0.57977585 0.08573423 0.03896388], a shape = (4,), a data type = float64\n"
     ]
    }
   ],
   "source": [
    "#Some data creation routines do not take a shape tuple\n",
    "a = np.arange(4.); print(f\"np.arange(4.): a = {a}, a shape = {a.shape}, a data type = {a.dtype}\")\n",
    "a = np.random.rand(4); print(f\"no.random.rand(4): a = {a}, a shape = {a.shape}, a data type = {a.dtype}\")"
   ]
  },
  {
   "cell_type": "code",
   "execution_count": 15,
   "metadata": {},
   "outputs": [
    {
     "name": "stdout",
     "output_type": "stream",
     "text": [
      "[0 1 2 3 4 5 6 7 8 9]\n",
      "a[2].shape: () a[2] = 2, accesing an element returns a scalar\n",
      "a[-1] = 9\n",
      "The error message you'll see is:\n",
      "index 10 is out of bounds for axis 0 with size 10\n"
     ]
    }
   ],
   "source": [
    "### Operations on Vectors\n",
    "# Indexing\n",
    "\n",
    "#Vector indexing operations\n",
    "x = np.arange(10)\n",
    "print(x)\n",
    "\n",
    "#access an element\n",
    "print(f\"a[2].shape: {x[2].shape} a[2] = {x[2]}, accesing an element returns a scalar\")\n",
    "\n",
    "#access the last element, negative indexes count from the end\n",
    "print(f\"a[-1] = {x[-1]}\")\n",
    "\n",
    "#indexs must be within the range of the vector or they will produce and error\n",
    "try:\n",
    "    c = x[10]\n",
    "except Exception as e:\n",
    "    print(\"The error message you'll see is:\")\n",
    "    print(e)\n"
   ]
  },
  {
   "cell_type": "code",
   "execution_count": 20,
   "metadata": {},
   "outputs": [
    {
     "name": "stdout",
     "output_type": "stream",
     "text": [
      "a = {a}\n",
      "a[2:7:1] =  [2 3 4 5 6]\n",
      "a[2:7:2] =  [2 4 6]\n",
      "a[3:] =  [3 4 5 6 7 8 9]\n",
      "a[:3] =  [0 1 2]\n",
      "a[:] =  [0 1 2 3 4 5 6 7 8 9]\n"
     ]
    }
   ],
   "source": [
    "#Slicing\n",
    "#Vector slicng operations\n",
    "a = np.arange(10)\n",
    "print(\"a = {a}\")\n",
    "\n",
    "#access 5 consecutive elements (start:stop:step)\n",
    "c = a[2:7:1]; print(\"a[2:7:1] = \", c)\n",
    "\n",
    "#access 3 elements separated by two\n",
    "d = a[2:7:2]; print(\"a[2:7:2] = \", d)\n",
    "\n",
    "#access all elements index 3 and above\n",
    "f = a[3:]; print(\"a[3:] = \", f)\n",
    "\n",
    "#access all elements below index 3\n",
    "g = a[:3]; print(\"a[:3] = \", g)\n",
    "\n",
    "#access all elements\n",
    "h = a[:]; print(\"a[:] = \", h)\n"
   ]
  },
  {
   "cell_type": "code",
   "execution_count": 27,
   "metadata": {},
   "outputs": [
    {
     "name": "stdout",
     "output_type": "stream",
     "text": [
      "a : [1 2 3 4]\n",
      "b:  [-1 -2 -3 -4]\n",
      "Sum : 10\n",
      "mean of c: 2.5\n",
      "Square of a: [ 1  4  9 16]\n"
     ]
    }
   ],
   "source": [
    "#Single vector operations\n",
    "\n",
    "a = np.array([1,2,3,4])\n",
    "print(f\"a : {a}\")\n",
    "\n",
    "#negate all elements\n",
    "b = - a\n",
    "print(f\"b:  {b}\")\n",
    "\n",
    "#Sum of all elements\n",
    "\n",
    "c = np.sum(a)\n",
    "print(f\"Sum : {c}\")\n",
    "\n",
    "#mean\n",
    "\n",
    "d = np.mean(a)\n",
    "print(f\"mean of c: {d}\")\n",
    "\n",
    "#Square\n",
    "e = a ** 2\n",
    "print(f\"Square of a: {e}\")"
   ]
  },
  {
   "cell_type": "code",
   "execution_count": 29,
   "metadata": {},
   "outputs": [
    {
     "name": "stdout",
     "output_type": "stream",
     "text": [
      "[1 2 3 4]\n",
      "[-1 -2 -3 -4]\n",
      "Binary operators work element wis: [0 0 0 0]\n"
     ]
    }
   ],
   "source": [
    "#Operations with NumPy\n",
    "\n",
    "a = np.array([1,2,3,4])\n",
    "b = np.array([-1,-2,-3,-4])\n",
    "\n",
    "print(a)\n",
    "print(b)\n",
    "print(f\"Binary operators work element wis: {a+b}\")\n",
    "\n",
    "#Note: Vectors must be of the same size "
   ]
  },
  {
   "cell_type": "code",
   "execution_count": 31,
   "metadata": {},
   "outputs": [
    {
     "name": "stdout",
     "output_type": "stream",
     "text": [
      "The error message you'll see is: \n",
      "operands could not be broadcast together with shapes (4,) (2,) \n"
     ]
    }
   ],
   "source": [
    "#Trying a mismatched vector operation\n",
    "c = ([1,2])\n",
    "\n",
    "try:\n",
    "    d = a + c \n",
    "except Exception as e:\n",
    "    print(\"The error message you'll see is: \")\n",
    "    print(e)\n"
   ]
  },
  {
   "cell_type": "code",
   "execution_count": 33,
   "metadata": {},
   "outputs": [
    {
     "name": "stdout",
     "output_type": "stream",
     "text": [
      "b = 5 * a : [ 5 10 15 20 25 30]\n"
     ]
    }
   ],
   "source": [
    "#Scalar vector operations\n",
    "\n",
    "a = np.array([1,2,3,4,5,6])\n",
    "\n",
    "#multiply for a scalar\n",
    "\n",
    "b = 5 * a\n",
    "print(f\"b = 5 * a : {b}\")\n",
    "\n"
   ]
  },
  {
   "cell_type": "code",
   "execution_count": 42,
   "metadata": {},
   "outputs": [],
   "source": [
    "#Vector dot product\n",
    "\n",
    "\n",
    "#Dot product using a loop\n",
    "\n",
    "def dot(x, y):\n",
    "    \"\"\"\"\n",
    "    Compute the dot product of two vectors\n",
    "\n",
    "    Args:\n",
    "        x (ndarray(n,)): Input vector\n",
    "        y (ndarray(n,)) : Input vector (same dimension as x)\n",
    "\n",
    "    Retunrs:\n",
    "        z (scalar):\n",
    "    \"\"\"\n",
    "    n = x.shape[0]\n",
    "    z = 0\n",
    "    for i in range(n):\n",
    "        z = z + x[i] * y[i]\n",
    "    return z\n"
   ]
  },
  {
   "cell_type": "code",
   "execution_count": 43,
   "metadata": {},
   "outputs": [
    {
     "name": "stdout",
     "output_type": "stream",
     "text": [
      "The vector dot operation using my function is: 770\n"
     ]
    }
   ],
   "source": [
    "#test 1-D\n",
    "l = np.array([1,2,3,4,5,6,7,8,9,10])\n",
    "m = np.array([2,4,6,8,10,12,14,16,18,20])\n",
    "\n",
    "print(f\"The vector dot operation using my function is: {dot(l,m)}\")"
   ]
  },
  {
   "cell_type": "code",
   "execution_count": 45,
   "metadata": {},
   "outputs": [
    {
     "name": "stdout",
     "output_type": "stream",
     "text": [
      "The vector dot operation using the preload NumPy dot function is: 770\n",
      "The shape is: ()\n"
     ]
    }
   ],
   "source": [
    "#Using np.dot\n",
    "\n",
    "\n",
    "print(f\"The vector dot operation using the preload NumPy dot function is: {np.dot(l,m)}\")\n",
    "print(f\"The shape is: {np.dot(l,m).shape}\")"
   ]
  },
  {
   "cell_type": "code",
   "execution_count": 61,
   "metadata": {},
   "outputs": [
    {
     "name": "stdout",
     "output_type": "stream",
     "text": [
      "np.dot(a, b): 25000669.8073\n",
      "Vectorized version duration: 0.0500 ms\n",
      "Loop version of dot product (a, b):25000669.8073 \n",
      "Loop version duration: 11.8357 ms\n",
      "\n",
      " Loop version is: 23664.846930506163 % longer than Vectorized version\n"
     ]
    }
   ],
   "source": [
    "#Speed: Vector vs Loop\n",
    "np.random.seed(1)\n",
    "a = np.random.rand(100000000) #Very large arrays\n",
    "b = np.random.rand(100000000)\n",
    "\n",
    "tic = time.time() #capture start time\n",
    "c = np.dot(a, b)\n",
    "toc = time.time() #capture end time\n",
    "\n",
    "Vect = toc - tic\n",
    "\n",
    "print(f\"np.dot(a, b): {c:.4f}\")\n",
    "print(f\"Vectorized version duration: {(toc - tic):.4f} ms\")\n",
    "\n",
    "tic = time.time() #start time\n",
    "d = dot(a,b)\n",
    "toc = time.time() #end time\n",
    "\n",
    "Loop = toc - tic\n",
    "\n",
    "print(f\"Loop version of dot product (a, b):{d:.4f} \")\n",
    "print(f\"Loop version duration: {(toc - tic):.4f} ms\")\n",
    "\n",
    "print(\"\\n Loop version is:\", (Loop/Vect)*100 ,   \"% longer than Vectorized version\")\n",
    "\n",
    "del(a); del(b) #Delete these big arrays from memory"
   ]
  },
  {
   "cell_type": "code",
   "execution_count": 65,
   "metadata": {},
   "outputs": [
    {
     "name": "stdout",
     "output_type": "stream",
     "text": [
      "X[1] has shape (1,)\n",
      "w has shape (1,)\n",
      "c has shape ()\n"
     ]
    }
   ],
   "source": [
    "#Example\n",
    "X =np.array ([[1], [2], [3], [4]])\n",
    "w = np.array([2])\n",
    "c = np.dot(X[1], w)\n",
    "\n",
    "print(f\"X[1] has shape {X[1].shape}\")\n",
    "print(f\"w has shape {w.shape}\")\n",
    "print(f\"c has shape {c.shape}\")"
   ]
  },
  {
   "cell_type": "code",
   "execution_count": 67,
   "metadata": {},
   "outputs": [
    {
     "name": "stdout",
     "output_type": "stream",
     "text": [
      "a shape = (1, 5), a = [[0. 0. 0. 0. 0.]]\n",
      "a shape = (2, 1), a = [[0.]\n",
      " [0.]]\n",
      "a shape = (1, 1), a = [[0.8582913]]\n"
     ]
    }
   ],
   "source": [
    "#Matrix Creation\n",
    "a = np.zeros((1,5))\n",
    "print(f\"a shape = {a.shape}, a = {a}\")\n",
    "\n",
    "a = np.zeros((2,1))\n",
    "print(f\"a shape = {a.shape}, a = {a}\")\n",
    "\n",
    "a = np.random.random_sample((1,1))\n",
    "print(f\"a shape = {a.shape}, a = {a}\")"
   ]
  },
  {
   "cell_type": "code",
   "execution_count": 2,
   "metadata": {},
   "outputs": [
    {
     "name": "stdout",
     "output_type": "stream",
     "text": [
      "a shape = (3, 1), np.array: a = [[5]\n",
      " [4]\n",
      " [3]]\n",
      "a shape = (3, 1), np.array: a = [[5]\n",
      " [4]\n",
      " [3]]\n"
     ]
    }
   ],
   "source": [
    "a = np.array([[5],[4],[3]]); print(f\"a shape = {a.shape}, np.array: a = {a}\")\n",
    "a = np.array([[5], #One can also\n",
    "              [4], #Separate values\n",
    "              [3]]) #into separate rows\n",
    "print(f\"a shape = {a.shape}, np.array: a = {a}\")"
   ]
  },
  {
   "cell_type": "code",
   "execution_count": 11,
   "metadata": {},
   "outputs": [
    {
     "name": "stdout",
     "output_type": "stream",
     "text": [
      "a.shape: (3, 2), \n",
      "a= [[0 1]\n",
      " [2 3]\n",
      " [4 5]]\n",
      "\n",
      "a[2,0].shape: (), a[2,0] = 4, type(a[2,0]) = <class 'numpy.int64'> Accesing an element returns a scalar\n",
      "\n",
      "a[2].shape: (2,), a[2] = [4 5], type(a[2]) = <class 'numpy.ndarray'>\n"
     ]
    }
   ],
   "source": [
    "#Operations on Matrices\n",
    "\n",
    "#Indexing\n",
    "#Vector indexing operations on Matrices\n",
    "a = np.arange(6).reshape(-1,2) #reshape is a convinient  way to create matrices\n",
    "print(f\"a.shape: {a.shape}, \\na= {a}\")\n",
    "\n",
    "#access an element\n",
    "print(f\"\\na[2,0].shape: {a[2,0].shape}, a[2,0] = {a[2,0]}, type(a[2,0]) = {type(a[2,0])} Accesing an element returns a scalar\\n\")\n",
    "\n",
    "#acces a row\n",
    "print(f\"a[2].shape: {a[2].shape}, a[2] = {a[2]}, type(a[2]) = {type(a[2])}\")"
   ]
  },
  {
   "cell_type": "code",
   "execution_count": 18,
   "metadata": {},
   "outputs": [
    {
     "name": "stdout",
     "output_type": "stream",
     "text": [
      "a = \n",
      "[[ 0  1  2  3  4  5  6  7  8  9]\n",
      " [10 11 12 13 14 15 16 17 18 19]]\n",
      "a[0, 2:7:1] =  [2 3 4 5 6] , a[0, 2:7:1].shape =  (5,) a 1-D array\n",
      "a[:, 2:7:1] = \n",
      " [[ 2  3  4  5  6]\n",
      " [12 13 14 15 16]] , a[:, 2:7:1].shape =  (2, 5) a 2-D array\n",
      "a[:,:] = \n",
      " [[ 0  1  2  3  4  5  6  7  8  9]\n",
      " [10 11 12 13 14 15 16 17 18 19]] , a[:,:].shape = (2, 10)\n",
      "a[1,:] =  [10 11 12 13 14 15 16 17 18 19] , a[1,:].shape =  (10,) a 1-D array\n",
      "a[1] =  [10 11 12 13 14 15 16 17 18 19] , a[1].shape =  (10,) a 1-D array\n"
     ]
    }
   ],
   "source": [
    "#Slicing\n",
    "#vector 2-D slicing operations\n",
    "a = np.arange(20).reshape(-1,10)\n",
    "print(f\"a = \\n{a}\")\n",
    "\n",
    "#access  5 consecutive  elements (start:stop:step)\n",
    "print(\"a[0, 2:7:1] = \", a[0, 2:7:1], \", a[0, 2:7:1].shape = \", a[0, 2:7:1].shape, \"a 1-D array\")\n",
    "\n",
    "#acces 5 consecutive elements (start:stop:step) in two rows\n",
    "print(\"a[:, 2:7:1] = \\n\", a[:, 2:7:1], \", a[:, 2:7:1].shape = \", a[:, 2:7:1].shape, \"a 2-D array\")\n",
    "\n",
    "#access all elements \n",
    "print(\"a[:,:] = \\n\", a[:,:], \", a[:,:].shape =\", a[:,:].shape)\n",
    "\n",
    "#acces all elements in one row\n",
    "print(\"a[1,:] = \", a[1,:], \", a[1,:].shape = \", a[1,:].shape, \"a 1-D array\")\n",
    "\n",
    "#same as\n",
    "print(\"a[1] = \", a[1], \", a[1].shape = \", a[1].shape, \"a 1-D array\")"
   ]
  },
  {
   "cell_type": "code",
   "execution_count": null,
   "metadata": {},
   "outputs": [],
   "source": []
  }
 ],
 "metadata": {
  "language_info": {
   "name": "python"
  }
 },
 "nbformat": 4,
 "nbformat_minor": 2
}
