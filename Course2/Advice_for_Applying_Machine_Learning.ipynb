{
 "cells": [
  {
   "cell_type": "markdown",
   "id": "5f62eadd",
   "metadata": {},
   "source": [
    "# In this notebook I will explore techniques to evaluate and improve machine learning models"
   ]
  },
  {
   "cell_type": "code",
   "execution_count": null,
   "id": "6fd6ff88",
   "metadata": {},
   "outputs": [],
   "source": [
    "import numpy as np\n",
    "\n",
    "import matplotlib.pyplot as plt\n",
    "\n",
    "from sklearn.linear_model import LinearRegression, Ridge\n",
    "from sklearn.preprocessing import StandardScaler, PolynomialFeatures\n",
    "from sklearn.model_selection import train_test_split\n",
    "from sklearn.metrics import mean_squared_error\n",
    "\n",
    "import tensorflow as tf\n",
    "from tensorflow.keras.models import Sequential\n",
    "from tensorflow.keras.layers import Dense\n",
    "from tensorflow.keras.activations import relu, linear\n",
    "from tensorflow.keras.losses import SparseCategoricalCrossentropy\n",
    "from tensorflow.keras.optimizers import Adam\n",
    "\n",
    "import logging\n",
    "logging.getLogger(\"tensorflow\").setLevel(logging.ERROR)\n",
    "tf.keras.backend.set_floatx('float64')\n",
    "tf.autograph.set_verbosity(0)"
   ]
  },
  {
   "cell_type": "code",
   "execution_count": 22,
   "id": "3b861412",
   "metadata": {},
   "outputs": [],
   "source": [
    "dlc = dict(dlblue = '#0096ff', dlorange = '#FF9300', dldarkred='#C00000', dlmagenta='#FF40FF', dlpurple='#7030A0', dldarkblue =  '#0D5BDC')\n",
    "dlblue = '#0096ff'; dlorange = '#FF9300'; dldarkred='#C00000'; dlmagenta='#FF40FF'; dlpurple='#7030A0'; dldarkblue =  '#0D5BDC'\n",
    "dlcolors = [dlblue, dlorange, dldarkred, dlmagenta, dlpurple]"
   ]
  },
  {
   "cell_type": "code",
   "execution_count": 4,
   "id": "6048e243",
   "metadata": {},
   "outputs": [],
   "source": [
    "def gen_data(m, seed=1, scale=0.7):\n",
    "    \"\"\" Generate a data set based on a x^2 with added noise \"\"\"\n",
    "\n",
    "    c = 0\n",
    "    x_train = np.linspace(0,49,m)\n",
    "    np.random.seed(seed)\n",
    "    y_ideal = x_train**2 + c\n",
    "    y_train = y_ideal + scale * y_ideal * (np.random.sample((m,))-0.5)\n",
    "    x_ideal = x_train # for redraw when new data included in X\n",
    "    return  x_train, y_train, x_ideal, y_ideal"
   ]
  },
  {
   "cell_type": "markdown",
   "id": "243604e9",
   "metadata": {},
   "source": [
    "# Split the data"
   ]
  },
  {
   "cell_type": "code",
   "execution_count": null,
   "id": "b99555c7",
   "metadata": {},
   "outputs": [
    {
     "name": "stdout",
     "output_type": "stream",
     "text": [
      "X.shape: (18,) y.shape:  (18,)\n",
      "X_train.shape: (12,) y_train.shape (12,)\n",
      "X_test.shape: (6,) y_test.shape (6,)\n"
     ]
    }
   ],
   "source": [
    "# Generate the data\n",
    "X, y, x_ideal, y_ideal = gen_data(18, 2, 0.7)\n",
    "print(\"X.shape:\", X.shape, \"y.shape: \", y.shape)\n",
    "\n",
    "# Split the data\n",
    "X_train, X_test, y_train, y_test = train_test_split(X, y, test_size=0.33, random_state=1)\n",
    "print(\"X_train.shape:\", X_train.shape, \"y_train.shape\", y_train.shape)\n",
    "print(\"X_test.shape:\", X_test.shape, \"y_test.shape\", y_test.shape)"
   ]
  },
  {
   "cell_type": "markdown",
   "id": "13b0e72a",
   "metadata": {},
   "source": [
    "# Plot Train, Test Sets"
   ]
  },
  {
   "cell_type": "code",
   "execution_count": 25,
   "id": "df8dc986",
   "metadata": {},
   "outputs": [
    {
     "data": {
      "image/png": "[encoded data removed]",
      "text/plain": [
       "<Figure size 400x400 with 1 Axes>"
      ]
     },
     "metadata": {},
     "output_type": "display_data"
    }
   ],
   "source": [
    "fig, ax = plt.subplots(1,1, figsize=(4,4))\n",
    "ax.plot(x_ideal, y_ideal, \"--\", color='orangered', label=\"y_ideal\", lw=1)\n",
    "ax.set_title(\"Training, Test\", fontsize=14)\n",
    "ax.set_xlabel(\"x\")\n",
    "ax.set_ylabel(\"y\")\n",
    "\n",
    "ax.scatter(X_train, y_train, color=\"r\", label=\"train\")\n",
    "ax.scatter(X_test, y_test, color=dlc[\"dlblue\"], label=\"test\")\n",
    "ax.legend(loc='upper left')\n",
    "plt.show()"
   ]
  },
  {
   "cell_type": "markdown",
   "id": "ba04fa49",
   "metadata": {},
   "source": [
    "# Error Calculation for model evaluation, linear regression\n",
    "\n",
    "$$\\textbf{J}_{test} (\\textbf{w},b) = \\frac{1}{2m_{test}} \\sum_{i=0}^{m_{test}-1} (f_{\\textbf{w},b}(\\textbf{x}_{test}^{(i)}) - y_{test}^{(i)})^2$$\n",
    "\n",
    "I will implement a function to calculate it."
   ]
  },
  {
   "cell_type": "code",
   "execution_count": 27,
   "id": "5d077f63",
   "metadata": {},
   "outputs": [],
   "source": [
    "def my_mse(y, yhat):\n",
    "    \"\"\" \n",
    "        Calculate the mean square error on a data set.\n",
    "\n",
    "        Args:\n",
    "            y           :  (ndarray(m,) or (m,1))   Target value of each example\n",
    "            yhat        :  (ndarray(m,) or (m,1)    Predicted value of each example\n",
    "    \n",
    "        Returns:\n",
    "            err(scalar) : mean square error\n",
    "    \"\"\"\n",
    "\n",
    "    m = len(y)\n",
    "    err = 0.0\n",
    "\n",
    "    for i in range(m):\n",
    "        err += (y[i] - yhat[i])**2\n",
    "        \n",
    "    err = err / (2*m)\n",
    "\n",
    "    return (err)"
   ]
  },
  {
   "cell_type": "markdown",
   "id": "899a54d4",
   "metadata": {},
   "source": [
    "# Compare performance on training and test data\n",
    "\n",
    "Let's build a high degree polynomial model to minimize the error."
   ]
  },
  {
   "cell_type": "code",
   "execution_count": 28,
   "id": "f6c02b0d",
   "metadata": {},
   "outputs": [],
   "source": [
    "# Create a model in sklearn\n",
    "class lin_model:\n",
    "    def __init__(self, degree, regularization=False, lambda_=0):\n",
    "        if regularization:\n",
    "            self.linear_model = Ridge(alpha=lambda_)\n",
    "        else:\n",
    "            self.linear_model = LinearRegression()\n",
    "        self.poly = PolynomialFeatures(degree, include_bias=False)\n",
    "        self.scaler = StandardScaler()\n",
    "\n",
    "    def fit(self, X_train, y_train):\n",
    "        \"\"\" Just fits the data. Mapping and scaling are not repeated\"\"\"\n",
    "        X_train_mapped = self.poly.fit_transform(X_train.reshape(-1,1))\n",
    "        X_train_mapped_scaled = self.scaler.fit_transform(X_train_mapped)\n",
    "        self.linear_model.fit(X_train_mapped_scaled, y_train)\n",
    "\n",
    "    def predict(self, X):\n",
    "        X_mapped = self.poly.transform(X.reshape(-1,1))\n",
    "        X_mapped_scaled = self.scaler.transform(X_mapped)\n",
    "        yhat = self.linear_model.predict(X_mapped_scaled)\n",
    "        return yhat\n",
    "    \n",
    "    def mse(self, y, yhat):\n",
    "        err = mean_squared_error(y, yhat) / 2\n",
    "        return (err)"
   ]
  },
  {
   "cell_type": "code",
   "execution_count": 29,
   "id": "d7633b0d",
   "metadata": {},
   "outputs": [],
   "source": [
    "degree = 10\n",
    "lmodel = lin_model(degree)\n",
    "lmodel.fit(X_train, y_train)\n",
    "\n",
    "# Predict on training data, find training error\n",
    "yhat = lmodel.predict(X_train)\n",
    "err_train = lmodel.mse(y_train, yhat)\n",
    "\n",
    "# Predict on test data, find test error\n",
    "yhat = lmodel.predict(X_test)\n",
    "err_test = lmodel.mse(y_test, yhat)"
   ]
  },
  {
   "cell_type": "code",
   "execution_count": 30,
   "id": "6524d290",
   "metadata": {},
   "outputs": [
    {
     "name": "stdout",
     "output_type": "stream",
     "text": [
      "Training error: 58.01, Test error: 171215.01\n"
     ]
    }
   ],
   "source": [
    "print(f\"Training error: {err_train:.2f}, Test error: {err_test:.2f}\")"
   ]
  },
  {
   "cell_type": "markdown",
   "id": "303ae8e5",
   "metadata": {},
   "source": [
    "I can observe that the test error is too high. Let's explore why this is in a plot."
   ]
  },
  {
   "cell_type": "code",
   "execution_count": 55,
   "id": "b5bb4c98",
   "metadata": {},
   "outputs": [],
   "source": [
    "def plt_train_test(X_train, y_train, X_test, y_test, x, y_pred, x_ideal, y_ideal, degree):\n",
    "    fig, ax = plt.subplots(1,1, figsize=(4,4))\n",
    "    fig.canvas.toolbar_visible = False\n",
    "    fig.canvas.header_visible = False\n",
    "    fig.canvas.footer_visible = False\n",
    "\n",
    "    ax.plot(x_ideal, y_ideal, \"--\", color='orangered', label=\"y_ideal\", lw=1)\n",
    "    ax.set_title(\"Poor Performance on Test Data\", fontsize=12)\n",
    "    ax.set_xlabel(\"x\")\n",
    "    ax.set_ylabel(\"y\")\n",
    "\n",
    "\n",
    "    ax.scatter(X_train, y_train, color=dlc[\"dldarkred\"], label=\"Train\")\n",
    "    ax.scatter(X_test, y_test, color=dlc[\"dldarkblue\"], label=\"Test\")\n",
    "    ax.set_xlim(ax.get_xlim())\n",
    "    ax.set_ylim(ax.get_ylim())\n",
    "    ax.plot(x, y_pred, lw=0.5, color=dlc[\"dlblue\"], label=f\"Predicted, degree={degree}\")\n",
    "    ax.legend('upper left')\n",
    "    plt.tight_layout()\n",
    "    plt.show()"
   ]
  },
  {
   "cell_type": "code",
   "execution_count": null,
   "id": "c240f4ed",
   "metadata": {},
   "outputs": [
    {
     "data": {
      "image/png": "[encoded data removed]",
      "text/plain": [
       "<Figure size 400x400 with 1 Axes>"
      ]
     },
     "metadata": {},
     "output_type": "display_data"
    }
   ],
   "source": [
    "x = np.linspace(0, int(X.max()), 100) # Predict values for plot\n",
    "y_pred = lmodel.predict(x).reshape(-1,1)\n",
    "\n",
    "plt_train_test(X_train, y_train, X_test, y_test, x, y_pred, x_ideal, y_ideal, 10)"
   ]
  },
  {
   "cell_type": "code",
   "execution_count": null,
   "id": "52810262",
   "metadata": {},
   "outputs": [],
   "source": []
  }
 ],
 "metadata": {
  "kernelspec": {
   "display_name": "DataScience",
   "language": "python",
   "name": "python3"
  },
  "language_info": {
   "codemirror_mode": {
    "name": "ipython",
    "version": 3
   },
   "file_extension": ".py",
   "mimetype": "text/x-python",
   "name": "python",
   "nbconvert_exporter": "python",
   "pygments_lexer": "ipython3",
   "version": "3.11.9"
  }
 },
 "nbformat": 4,
 "nbformat_minor": 5
}
