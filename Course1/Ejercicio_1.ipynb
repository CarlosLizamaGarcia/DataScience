{
 "cells": [
  {
   "cell_type": "code",
   "execution_count": 2,
   "metadata": {},
   "outputs": [],
   "source": [
    "import numpy as np\n",
    "import matplotlib.pyplot as plt\n",
    "from utils import *\n",
    "import copy\n",
    "import math"
   ]
  },
  {
   "cell_type": "code",
   "execution_count": null,
   "metadata": {},
   "outputs": [],
   "source": [
    "#Exercise: Supose you are the  CEO of a restaurant franchise and are considering different cities for openings a new outlet.\n",
    "\n",
    "    #You would like to expand your business to cities that may give your restaurant higher profits.\n",
    "    #The chain already has restaurants in various cities and you have data for profits and populations from the cities.\n",
    "    #You also have data on cities that are candidates for a new restaurant.\n",
    "    #For these cities, you have the city population.\n",
    "\n",
    "#Can you use the data to help you identify which cities may potentially give your business higher profits?"
   ]
  },
  {
   "cell_type": "code",
   "execution_count": null,
   "metadata": {},
   "outputs": [],
   "source": [
    "#Load the data\n",
    "x_train, y_train = load_data()\n"
   ]
  },
  {
   "cell_type": "code",
   "execution_count": null,
   "metadata": {},
   "outputs": [],
   "source": []
  }
 ],
 "metadata": {
  "language_info": {
   "name": "python"
  }
 },
 "nbformat": 4,
 "nbformat_minor": 2
}
