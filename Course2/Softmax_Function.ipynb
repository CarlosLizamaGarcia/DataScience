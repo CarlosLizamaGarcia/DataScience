{
 "cells": [
  {
   "cell_type": "code",
   "execution_count": 2,
   "metadata": {},
   "outputs": [],
   "source": [
    "import numpy as np\n",
    "import matplotlib.pyplot as plt\n",
    "import tensorflow as tf\n",
    "from tensorflow.keras.models import Sequential\n",
    "from tensorflow.keras.layers import Dense\n",
    "from IPython.display import display, Markdown, Latex\n",
    "from sklearn.datasets import make_blobs\n",
    "#%matplotlib widget\n",
    "from matplotlib.widgets import Slider\n",
    "import logging\n",
    "logging.getLogger(\"tensorflow\").setLevel(logging.ERROR)\n",
    "tf.autograph.set_verbosity(0)\n"
   ]
  },
  {
   "cell_type": "code",
   "execution_count": 3,
   "metadata": {},
   "outputs": [],
   "source": [
    "dlc = dict(dlblue = '#0096ff', dlorange = '#FF9300', dldarkred='#C00000', dlmagenta='#FF40FF', dlpurple='#7030A0', dldarkblue =  '#0D5BDC', dlmedblue='#4285F4')"
   ]
  },
  {
   "cell_type": "code",
   "execution_count": 4,
   "metadata": {},
   "outputs": [],
   "source": [
    "def plt_softmax(my_softmax):\n",
    "    fig, ax = plt.subplots(1,2, figsize=(8,4))\n",
    "    plt.subplots_adjust(bottom=0.35)                # Adjust the subpplot layout parameters\n",
    "\n",
    "    axz0 = fig.add_axes([0.15, 0.10, 0.30, 0.03])   # [left, bottom, width, height]\n",
    "    axz1 = fig.add_axes([0.15, 0.10, 0.30, 0.03])\n",
    "    axz2 = fig.add_axes([0.15, 0.20, 0.30, 0.03])\n",
    "    axz3 = fig.add_axes([0.15, 0.25, 0.30, 0.03])\n",
    "\n",
    "    z3 = Slider(axz3, 'z3', 0.1, 10.0, valinit=4, valstep=0.1) # The Slider widget provides control over the visual properties of the plot. Slider() is used to place\n",
    "    z2 = Slider(axz2, 'z2', 0.1, 10.0, valinit=3, valstep=0.1) # a slider representing a floating point range in a plot on provided axes.\n",
    "    z1 = Slider(axz1, 'z1', 0.1, 10.0, valinit=2, valstep=0.1)\n",
    "    z0 = Slider(axz0, 'z0', 0.1, 10.0, valinit=1, valstep=0.1)\n",
    "\n",
    "    z = np.array(['z0', 'z1', 'z2', 'z3'])\n",
    "    bar = ax[0].barh(z, height=0.6, width=[z0.val, z1.val, z2.val, z3.val], left=None, align='center')\n",
    "    bars = bar.get_children()\n",
    "    ax[0].set_xlim([0,10])\n",
    "    ax[0].set_title(\"z input to softmax\")\n",
    "\n",
    "    a = my_softmax(np.array([z0.val, z1.val, z2.val, z3.val]))\n",
    "    anames = np.array(['a0', 'a1', 'a2', 'a3'])\n",
    "    sbar = ax[1].barh(anames, height=0.6, width=a, left=None, align='center', color=dlc[\"dldarkred\"])\n",
    "    sbars = sbar.get_children()\n",
    "    ax[1].set_xlim([0,10])\n",
    "    ax[1].set_title(\"softmax(z)\")\n",
    "\n",
    "    def update(val):\n",
    "        bars[0].set_width(z0.val)\n",
    "        bars[1].set_width(z1.val)\n",
    "        bars[2].set_width(z2.val)\n",
    "        bars[3].set_width(z2.val)\n",
    "        a = my_softmax(np.array([z0.val, z1.val, z2.val, z3.val]))\n",
    "        sbars[0].set_Width(a[0])\n",
    "        sbars[1].set_Width(a[1])\n",
    "        sbars[2].set_Width(a[2])\n",
    "        sbars[3].set_Width(a[3])\n",
    "\n",
    "        fig.canvas.draw_idle\n",
    "    \n",
    "    z0.on_changed(update)\n",
    "    z1.on_changed(update)\n",
    "    z2.on_changed(update)\n",
    "    z3.on_changed(update)"
   ]
  },
  {
   "cell_type": "code",
   "execution_count": 5,
   "metadata": {},
   "outputs": [],
   "source": [
    "def my_softmax(z):\n",
    "    ez = np.exp(z)          # Element-wise exponential\n",
    "    sm = ez/np.sum(ez)\n",
    "    return(sm)"
   ]
  },
  {
   "cell_type": "code",
   "execution_count": 6,
   "metadata": {},
   "outputs": [
    {
     "data": {
      "image/png": "[encoded data removed]",
      "text/plain": [
       "<Figure size 800x400 with 6 Axes>"
      ]
     },
     "metadata": {},
     "output_type": "display_data"
    }
   ],
   "source": [
    "plt.close(\"all\")\n",
    "plt_softmax(my_softmax)"
   ]
  },
  {
   "cell_type": "code",
   "execution_count": null,
   "metadata": {},
   "outputs": [],
   "source": []
  },
  {
   "cell_type": "code",
   "execution_count": null,
   "metadata": {},
   "outputs": [],
   "source": []
  },
  {
   "cell_type": "code",
   "execution_count": null,
   "metadata": {},
   "outputs": [],
   "source": []
  }
 ],
 "metadata": {
  "kernelspec": {
   "display_name": "DataScience",
   "language": "python",
   "name": "python3"
  },
  "language_info": {
   "codemirror_mode": {
    "name": "ipython",
    "version": 3
   },
   "file_extension": ".py",
   "mimetype": "text/x-python",
   "name": "python",
   "nbconvert_exporter": "python",
   "pygments_lexer": "ipython3",
   "version": "3.11.9"
  }
 },
 "nbformat": 4,
 "nbformat_minor": 2
}
