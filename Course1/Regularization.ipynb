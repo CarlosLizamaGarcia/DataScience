{
 "cells": [
  {
   "cell_type": "code",
   "execution_count": 1,
   "metadata": {},
   "outputs": [],
   "source": [
    "import numpy as np\n",
    "import matplotlib.pyplot as plt\n",
    "from lab_utils_common import sigmoid"
   ]
  },
  {
   "cell_type": "code",
   "execution_count": 2,
   "metadata": {},
   "outputs": [],
   "source": [
    "def cost_regularization_linear_reg(X, y, w, b, lambda_ = 1):\n",
    "    \"\"\"\n",
    "        Computes the cost over all examples\n",
    "    Args:\n",
    "        X (ndarray (m,n))   : Data, m examples with n features\n",
    "        y (ndarray (m,n))   : Target values\n",
    "        w (ndarray (n,))    : Model parameters\n",
    "        b (scalar)          : Model parameter\n",
    "        lambda_ (scalar)    : Controls the amount of regularization\n",
    "\n",
    "    Returns:\n",
    "        total_cost (scalar) : cost\n",
    "    \"\"\"\n",
    "    m = X.shape[0]\n",
    "    n = len(w)\n",
    "\n",
    "    cost_tmp = 0\n",
    "    reg = 0\n",
    "\n",
    "    for i in range(m):\n",
    "        f_wb = np.dot(w, X[i]) + b\n",
    "        err_ = (f_wb - y[i])**2\n",
    "        cost_tmp = cost_tmp + err_\n",
    "\n",
    "\n",
    "    for j in range (n):\n",
    "        w_j = (w[j])**2\n",
    "        reg = reg + w_j\n",
    "        \n",
    "    cost = (1 / (2 * m)) * (cost_tmp + lambda_ * reg)\n",
    "\n",
    "    return cost"
   ]
  },
  {
   "cell_type": "code",
   "execution_count": 3,
   "metadata": {},
   "outputs": [
    {
     "name": "stdout",
     "output_type": "stream",
     "text": [
      "Regularized cost: 0.07917239320214275\n"
     ]
    }
   ],
   "source": [
    "np.random.seed(1)\n",
    "X_tmp = np.random.rand(5,6)\n",
    "y_tmp = np.array([0,1,0,1,0])\n",
    "w_tmp = np.random.rand(X_tmp.shape[1]).reshape(-1,)-0.5\n",
    "b_tmp = 0.5\n",
    "lambda_tmp = 0.7\n",
    "cost_tmp1 = cost_regularization_linear_reg(X_tmp, y_tmp, w_tmp, b_tmp, lambda_tmp)\n",
    "\n",
    "print(\"Regularized cost:\", cost_tmp1)"
   ]
  },
  {
   "cell_type": "code",
   "execution_count": 4,
   "metadata": {},
   "outputs": [],
   "source": [
    "def cost_regularization_logistic_reg(X, y, w, b, lambda_1 = 1):\n",
    "    \"\"\"\n",
    "        Computes the cost over all examples\n",
    "    Args:\n",
    "        X (ndarray (m,n))   : Data, m examples with n features\n",
    "        y (ndarray (m,n))   : Target values\n",
    "        w (ndarray (n,))    : Model parameters\n",
    "        b (scalar)          : Model parameter\n",
    "        lambda_ (scalar)    : Controls the amount of regularization\n",
    "\n",
    "    Returns:\n",
    "        total_cost (scalar) : cost\n",
    "    \"\"\"\n",
    "     \n",
    "    m,n = X.shape\n",
    "    f_wb_i = 0\n",
    "    reg = 0\n",
    "\n",
    "    for i in range(m):\n",
    "        f_wb_i = sigmoid(np.dot(w,X[i]) + b)\n",
    "        f_wb_i += -y[i] * np.log(f_wb_i) - (1 - y[i]) * np.log(1 - f_wb_i)\n",
    "    f_wb_i = f_wb_i / m\n",
    "        \n",
    "    for j in range(n):\n",
    "        reg += (w[j])**2\n",
    "    reg = (lambda_1 * reg) / (2 * m)\n",
    "\n",
    "    cost = f_wb_i + reg\n",
    "\n",
    "    return cost"
   ]
  },
  {
   "cell_type": "code",
   "execution_count": 5,
   "metadata": {},
   "outputs": [
    {
     "name": "stdout",
     "output_type": "stream",
     "text": [
      "Regularized cost:  0.2683098858662419\n"
     ]
    }
   ],
   "source": [
    "np.random.seed(1)\n",
    "X_tmp = np.random.rand(5,6)\n",
    "y_tmp = np.array([0, 1, 0, 1, 0])\n",
    "w_tmp = np.random.rand(X_tmp.shape[1]).reshape(-1,)-0.5\n",
    "b_tmp = 0.5\n",
    "lambda_tmp = 0.7\n",
    "cost_tmp = cost_regularization_logistic_reg(X_tmp, y_tmp, w_tmp, b_tmp, lambda_tmp)\n",
    "\n",
    "print(\"Regularized cost: \", cost_tmp)"
   ]
  },
  {
   "cell_type": "code",
   "execution_count": 6,
   "metadata": {},
   "outputs": [],
   "source": [
    "#Gradient descent Regularized for Linear Regression\n",
    "def Gradient_Descent_LinearRegression_Reg(X, y, w, b, lambda_ = 1):\n",
    "    \"\"\"\n",
    "        Computes the gradient descent over all examples\n",
    "    Args:\n",
    "        X (ndarray (m,n))   : Data, m examples with n features\n",
    "        y (ndarray (m,n))   : Target values\n",
    "        w (ndarray (n,))    : Model parameters\n",
    "        b (scalar)          : Model parameter\n",
    "        lambda_ (scalar)    : Controls the amount of regularization\n",
    "\n",
    "    Returns:\n",
    "        dj_dw (ndarray (n, )) : The gradient of the cost w.r.t the parameters w\n",
    "        dj_db (scalar)        : The gradient of the cost w.r.t. the parameter b\n",
    "    \"\"\"\n",
    "\n",
    "    m,n = X.shape\n",
    "    dj_dw = np.zeros((n,))\n",
    "    dj_db = 0\n",
    "\n",
    "    for i in range(m):\n",
    "        f_wb_i = np.dot(w,X[i]) + b\n",
    "        err = f_wb_i - y[i]\n",
    "        for j in range(n):\n",
    "            dj_dw[j] = dj_dw[j] + err * X[i,j]\n",
    "        dj_db = dj_db + err\n",
    "    dj_dw = dj_dw / m\n",
    "    dj_db = dj_db / m\n",
    "\n",
    "    for j in range(n):\n",
    "        dj_dw[j] = dj_dw[j] + (lambda_ / m ) * w[j]\n",
    "        \n",
    "\n",
    "    return dj_db, dj_dw\n"
   ]
  },
  {
   "cell_type": "code",
   "execution_count": 12,
   "metadata": {},
   "outputs": [
    {
     "name": "stdout",
     "output_type": "stream",
     "text": [
      "dj_db: 0.6648774569425727\n",
      "Regularized dj_dw:\n",
      " [0.33676019809892693, 0.516206250733831, 0.2499801650654037]\n"
     ]
    }
   ],
   "source": [
    "np.random.seed(1)\n",
    "X_tmp = np.random.rand(5,3)\n",
    "y_tmp = np.array([0,1,0,1,0])\n",
    "w_tmp = np.random.rand(X_tmp.shape[1])\n",
    "b_tmp = 0.5\n",
    "lambda_tmp = 0.7\n",
    "dj_db_tmp, dj_dw_tmp =  Gradient_Descent_LinearRegression_Reg(X_tmp, y_tmp, w_tmp, b_tmp, lambda_tmp)\n",
    "\n",
    "print(f\"dj_db: {dj_db_tmp}\", )\n",
    "print(f\"Regularized dj_dw:\\n {dj_dw_tmp.tolist()}\", )"
   ]
  },
  {
   "cell_type": "code",
   "execution_count": 15,
   "metadata": {},
   "outputs": [],
   "source": [
    "#Gradient descent Regularized for Logistic Regression\n",
    "def Gradient_Descent_LogisticRegression_Reg(X, y, w, b, lambda_ = 1):\n",
    "    \"\"\"\n",
    "        Computes the gradient descent over all examples\n",
    "    Args:\n",
    "        X (ndarray (m,n))   : Data, m examples with n features\n",
    "        y (ndarray (m,n))   : Target values\n",
    "        w (ndarray (n,))    : Model parameters\n",
    "        b (scalar)          : Model parameter\n",
    "        lambda_ (scalar)    : Controls the amount of regularization\n",
    "\n",
    "    Returns:\n",
    "        dj_dw (ndarray (n, )) : The gradient of the cost w.r.t the parameters w\n",
    "        dj_db (scalar)        : The gradient of the cost w.r.t. the parameter b\n",
    "    \"\"\"\n",
    "\n",
    "    m,n = X.shape\n",
    "    dj_dw = np.zeros((n,))\n",
    "    dj_db = 0\n",
    "\n",
    "    for i in range(m):\n",
    "        f_wb_i = sigmoid(np.dot(w,X[i]) + b)\n",
    "        err_i = f_wb_i - y[i]\n",
    "        for j in range(n):\n",
    "            dj_dw[j] = dj_dw[j] + err_i * X[i,j]\n",
    "        dj_db = dj_db + err_i\n",
    "    dj_dw = dj_dw / m\n",
    "    dj_db = dj_db / m\n",
    "\n",
    "    for j in range(n):\n",
    "        dj_dw[j] = dj_dw[j] + (lambda_ / m ) * w[j]\n",
    "        \n",
    "\n",
    "    return dj_db, dj_dw"
   ]
  },
  {
   "cell_type": "code",
   "execution_count": 16,
   "metadata": {},
   "outputs": [
    {
     "name": "stdout",
     "output_type": "stream",
     "text": [
      "dj_db: 0.341798994972791\n",
      "Regularized dj_dw:\n",
      " [0.17380012933994293, 0.32007507881566943, 0.10776313396851499]\n"
     ]
    }
   ],
   "source": [
    "np.random.seed(1)\n",
    "X_tmp = np.random.rand(5,3)\n",
    "y_tmp = np.array([0,1,0,1,0])\n",
    "w_tmp = np.random.rand(X_tmp.shape[1])\n",
    "b_tmp = 0.5\n",
    "lambda_tmp = 0.7\n",
    "dj_db_tmp, dj_dw_tmp = Gradient_Descent_LogisticRegression_Reg(X_tmp, y_tmp, w_tmp, b_tmp, lambda_tmp)\n",
    "\n",
    "print(f\"dj_db: {dj_db_tmp}\", )\n",
    "print(f\"Regularized dj_dw:\\n {dj_dw_tmp.tolist()}\", )"
   ]
  },
  {
   "cell_type": "code",
   "execution_count": null,
   "metadata": {},
   "outputs": [],
   "source": []
  }
 ],
 "metadata": {
  "language_info": {
   "name": "python"
  }
 },
 "nbformat": 4,
 "nbformat_minor": 2
}
