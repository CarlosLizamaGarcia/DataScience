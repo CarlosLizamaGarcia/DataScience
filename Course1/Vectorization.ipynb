{
 "cells": [
  {
   "cell_type": "code",
   "execution_count": 1,
   "metadata": {},
   "outputs": [],
   "source": [
    "import numpy as np"
   ]
  },
  {
   "cell_type": "code",
   "execution_count": 4,
   "metadata": {},
   "outputs": [],
   "source": [
    "#Example of vectors\n",
    "\n",
    "w = np.array([1.0, 2.0, 3.0])\n",
    "\n",
    "x = np.array([10.0, -5.0, 11.5])\n",
    "\n",
    "b = 20"
   ]
  },
  {
   "cell_type": "code",
   "execution_count": 8,
   "metadata": {},
   "outputs": [
    {
     "name": "stdout",
     "output_type": "stream",
     "text": [
      "The dot product is 54.5\n"
     ]
    }
   ],
   "source": [
    "#We want to compute the dot product \n",
    "# w_1 * x_1 + w_2 * x_2 + w_3 * x_3\n",
    "\n",
    "#First case: Without Vectorization\n",
    "\n",
    "f_1 = w[0] * x[0] + w[1] * x[1] + w[2] * x[2] + b\n",
    "\n",
    "print(f\"The dot product is {f_1}\")"
   ]
  },
  {
   "cell_type": "code",
   "execution_count": 13,
   "metadata": {},
   "outputs": [
    {
     "name": "stdout",
     "output_type": "stream",
     "text": [
      "The dot product is 54.5\n"
     ]
    }
   ],
   "source": [
    "#Second case: Without Vectorization, but with loops\n",
    "\n",
    "f_2 = 0\n",
    "n = w.shape[0]\n",
    "for n in range(0,n):\n",
    "    f_2 = f_2 + w[n] * x[n]\n",
    "f_2 = f_2 + b\n",
    "\n",
    "print(f\"The dot product is {f_2}\")"
   ]
  },
  {
   "cell_type": "code",
   "execution_count": 11,
   "metadata": {},
   "outputs": [
    {
     "name": "stdout",
     "output_type": "stream",
     "text": [
      "The dot product is 54.5\n"
     ]
    }
   ],
   "source": [
    "#Third case: Vectorization\n",
    "\n",
    "f_3 = np.dot(w,x) + b\n",
    "\n",
    "print(f\"The dot product is {f_3}\")"
   ]
  },
  {
   "cell_type": "code",
   "execution_count": null,
   "metadata": {},
   "outputs": [],
   "source": []
  }
 ],
 "metadata": {
  "language_info": {
   "name": "python"
  }
 },
 "nbformat": 4,
 "nbformat_minor": 2
}
