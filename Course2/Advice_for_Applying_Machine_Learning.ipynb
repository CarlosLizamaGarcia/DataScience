{
 "cells": [
  {
   "cell_type": "markdown",
   "id": "5f62eadd",
   "metadata": {},
   "source": [
    "# In this notebook I will explore techniques to evaluate and improve machine learning models"
   ]
  },
  {
   "cell_type": "code",
   "execution_count": null,
   "id": "6fd6ff88",
   "metadata": {},
   "outputs": [],
   "source": [
    "import numpy as np\n",
    "\n",
    "import matplotlib.pyplot as plt\n",
    "\n",
    "from sklearn.linear_model import LinearRegression, Ridge\n",
    "from sklearn.preprocessing import StandardScaler, PolynomialFeatures\n",
    "from sklearn.model_selection import train_test_split\n",
    "from sklearn.metrics import mean_squared_error\n",
    "\n",
    "import tensorflow as tf\n",
    "from tensorflow.keras.models import Sequential\n",
    "from tensorflow.keras.layers import Dense\n",
    "from tensorflow.keras.activations import relu, linear\n",
    "from tensorflow.keras.losses import SparseCategoricalCrossentropy\n",
    "from tensorflow.keras.optimizers import Adam\n",
    "\n",
    "import logging\n",
    "logging.getLogger(\"tensorflow\").setLevel(logging.ERROR)\n",
    "tf.keras.backend.set_floatx('float64')\n",
    "tf.autograph.set_verbosity(0)"
   ]
  },
  {
   "cell_type": "code",
   "execution_count": 4,
   "id": "6048e243",
   "metadata": {},
   "outputs": [],
   "source": [
    "def gen_data(m, seed=1, scale=0.7):\n",
    "    \"\"\" Generate a data set based on a x^2 with added noise \"\"\"\n",
    "\n",
    "    c = 0\n",
    "    x_train = np.linspace(0,49,m)\n",
    "    np.random.seed(seed)\n",
    "    y_ideal = x_train**2 + c\n",
    "    y_train = y_ideal + scale * y_ideal * (np.random.sample((m,))-0.5)\n",
    "    x_ideal = x_train # for redraw when new data included in X\n",
    "    return  x_train, y_train, x_ideal, y_ideal"
   ]
  },
  {
   "cell_type": "markdown",
   "id": "243604e9",
   "metadata": {},
   "source": [
    "# Split the data"
   ]
  },
  {
   "cell_type": "code",
   "execution_count": null,
   "id": "b99555c7",
   "metadata": {},
   "outputs": [
    {
     "name": "stdout",
     "output_type": "stream",
     "text": [
      "X.shape: (18,) y.shape:  (18,)\n",
      "X_train.shape: (12,) y_train.shape (12,)\n",
      "X_test.shape: (6,) y_test.shape (6,)\n"
     ]
    }
   ],
   "source": [
    "# Generate the data\n",
    "X, y, x_ideal, y_ideal = gen_data(18, 2, 0.7)\n",
    "print(\"X.shape:\", X.shape, \"y.shape: \", y.shape)\n",
    "\n",
    "# Split the data\n",
    "X_train, X_test, y_train, y_test = train_test_split(X, y, test_size=0.33, random_state=1)\n",
    "print(\"X_train.shape:\", X_train.shape, \"y_train.shape\", y_train.shape)\n",
    "print(\"X_test.shape:\", X_test.shape, \"y_test.shape\", y_test.shape)"
   ]
  },
  {
   "cell_type": "code",
   "execution_count": null,
   "id": "13b0e72a",
   "metadata": {},
   "outputs": [],
   "source": []
  }
 ],
 "metadata": {
  "kernelspec": {
   "display_name": "DataScience",
   "language": "python",
   "name": "python3"
  },
  "language_info": {
   "codemirror_mode": {
    "name": "ipython",
    "version": 3
   },
   "file_extension": ".py",
   "mimetype": "text/x-python",
   "name": "python",
   "nbconvert_exporter": "python",
   "pygments_lexer": "ipython3",
   "version": "3.11.9"
  }
 },
 "nbformat": 4,
 "nbformat_minor": 5
}
