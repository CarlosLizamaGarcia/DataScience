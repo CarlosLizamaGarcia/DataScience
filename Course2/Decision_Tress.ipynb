{
 "cells": [
  {
   "cell_type": "markdown",
   "id": "8ff2fa2e",
   "metadata": {},
   "source": [
    "# Decision Trees\n",
    "In this exercise I will explore how a decision tree is splitted using [Information Gain](https://en.wikipedia.org/wiki/Information_gain_(decision_tree)).\n",
    "\n",
    "In Decision Tree, we decide if a node will be split or not by looking at the **Information Gain** that split would give us.\n",
    "\n",
    "$$ Information \\; Gain = H(p_1^{node}) - \\left( w^{left} H(p_1^{left}) + w^{right} H(p_1^{right}) \\right)$$\n",
    "\n",
    "Where $H$ is the entropy, defined as:\n",
    "\n",
    "$$ H(p_1) = -p_1 \\log_2 (p_1) - (1-p_1) \\log_2 (1-p_1) $$"
   ]
  },
  {
   "cell_type": "code",
   "execution_count": 1,
   "id": "9540fd20",
   "metadata": {},
   "outputs": [],
   "source": [
    "import pandas as pd\n",
    "import numpy as np\n",
    "import matplotlib.pyplot as plt"
   ]
  },
  {
   "cell_type": "markdown",
   "id": "45d65c98",
   "metadata": {},
   "source": [
    "The data I will use is the following:"
   ]
  },
  {
   "cell_type": "markdown",
   "id": "192a5abf",
   "metadata": {},
   "source": [
    "|               | Ear Shape | Face Shape | Whiskers|   Cat |\n",
    "|:-------------:|:---------:|:----------:|:-------:|:-----:|\n",
    "|<img src=\"images/0.png\" alt=\"drawing\" width=\"50\"> | Pointy | Round     | Present | 1 |\n",
    "|<img src=\"images/1.png\" alt=\"drawing\" width=\"50\"> | Floppy | Not Round | Present | 1 |\n",
    "|<img src=\"images/2.png\" alt=\"drawing\" width=\"50\"> | Floppy | Round     | Absent  | 0 |\n",
    "|<img src=\"images/3.png\" alt=\"drawing\" width=\"50\"> | Pointy | Not Round | Present | 0 |\n",
    "|<img src=\"images/4.png\" alt=\"drawing\" width=\"50\"> | Pointy | Round     | Present | 1 |\n",
    "|<img src=\"images/5.png\" alt=\"drawing\" width=\"50\"> | Pointy | Round     | Absent  | 1 |\n",
    "|<img src=\"images/6.png\" alt=\"drawing\" width=\"50\"> | Floppy | Not Round | Absent  | 0 |\n",
    "|<img src=\"images/7.png\" alt=\"drawing\" width=\"50\"> | Pointy | Round     | Absent  | 1 |\n",
    "|<img src=\"images/8.png\" alt=\"drawing\" width=\"50\"> | Floppy | Round     | Absent  | 0 |\n",
    "|<img src=\"images/9.png\" alt=\"drawing\" width=\"50\"> | Floppy | Round     | Absent  | 0 |"
   ]
  },
  {
   "cell_type": "markdown",
   "id": "f3a3b7ad",
   "metadata": {},
   "source": [
    "I will use **one-hot encoding** to encode the categorical features.\n",
    "- Ear Shape: Pointy = 1, Floppy = 0\n",
    "- Face Shape: Round = 1, Not Round = 0\n",
    "- Whiskers: Present = 1, Absent = 0\n",
    "\n",
    "With this election, the dataset is:"
   ]
  },
  {
   "cell_type": "code",
   "execution_count": 6,
   "id": "5707f35f",
   "metadata": {},
   "outputs": [],
   "source": [
    "# Data set\n",
    "X_train = np.array([[1,1,1],\n",
    "                   [0,0,1],\n",
    "                   [0,1,0],\n",
    "                   [1,0,1],\n",
    "                   [1,1,1],\n",
    "                   [1,1,0],\n",
    "                   [0,0,0],\n",
    "                   [1,1,0],\n",
    "                   [0,1,0],\n",
    "                   [0,1,0]])\n",
    "\n",
    "y_train = np.array([1,1,0,0,1,1,0,1,0,0])"
   ]
  },
  {
   "cell_type": "markdown",
   "id": "2b5b33fe",
   "metadata": {},
   "source": [
    "On each node, we compute the gain information for each feature, the split the node on the feature with the higher information gain, by comparing the entropy of the node wjth the weighted entropy in the two splitted nodes.\n",
    "\n",
    "Let's write a function to compute the entropy:"
   ]
  },
  {
   "cell_type": "code",
   "execution_count": null,
   "id": "0a220d16",
   "metadata": {},
   "outputs": [],
   "source": [
    "def entropy(p):\n",
    "    "
   ]
  }
 ],
 "metadata": {
  "kernelspec": {
   "display_name": "DataScience",
   "language": "python",
   "name": "python3"
  },
  "language_info": {
   "codemirror_mode": {
    "name": "ipython",
    "version": 3
   },
   "file_extension": ".py",
   "mimetype": "text/x-python",
   "name": "python",
   "nbconvert_exporter": "python",
   "pygments_lexer": "ipython3",
   "version": "3.11.9"
  }
 },
 "nbformat": 4,
 "nbformat_minor": 5
}
