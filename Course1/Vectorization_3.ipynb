{
 "cells": [
  {
   "cell_type": "code",
   "execution_count": 2,
   "metadata": {},
   "outputs": [],
   "source": [
    "import copy, math\n",
    "import numpy as np\n",
    "import matplotlib.pyplot as plt"
   ]
  },
  {
   "cell_type": "code",
   "execution_count": 3,
   "metadata": {},
   "outputs": [],
   "source": [
    "#Data\n",
    "X_train = np.array([[2104, 5, 1, 45], [1416, 3, 2, 40], [852, 2, 1, 35]])\n",
    "Y_train = np.array([460, 232, 178])"
   ]
  },
  {
   "cell_type": "code",
   "execution_count": 4,
   "metadata": {},
   "outputs": [
    {
     "name": "stdout",
     "output_type": "stream",
     "text": [
      "X_Shape: (3, 4), X Type:<class 'numpy.ndarray'>\n",
      "[[2104    5    1   45]\n",
      " [1416    3    2   40]\n",
      " [ 852    2    1   35]]\n",
      "Y_Shape: (3,), X Type:<class 'numpy.ndarray'>\n",
      "[460 232 178]\n"
     ]
    }
   ],
   "source": [
    "#Data stored\n",
    "print(f\"X_Shape: {X_train.shape}, X Type:{type(X_train)}\")\n",
    "print(X_train)\n",
    "print(f\"Y_Shape: {Y_train.shape}, X Type:{type(Y_train)}\")\n",
    "print(Y_train)"
   ]
  },
  {
   "cell_type": "code",
   "execution_count": 6,
   "metadata": {},
   "outputs": [
    {
     "name": "stdout",
     "output_type": "stream",
     "text": [
      "w_init Shape: (4,), b_init type: <class 'float'>\n"
     ]
    }
   ],
   "source": [
    "#Initial Parameters\n",
    "b_init = 785.18\n",
    "w_init = np.array([0.39, 18.75, -53.36, -26.42])\n",
    "print(f\"w_init Shape: {w_init.shape}, b_init type: {type(b_init)}\")"
   ]
  },
  {
   "cell_type": "code",
   "execution_count": 10,
   "metadata": {},
   "outputs": [],
   "source": [
    "def predict_single_loop(x, w, b):\n",
    "    \"\"\"\n",
    "    single predict using linear regression\n",
    "\n",
    "    Args:\n",
    "        x (ndarray): Shape (n,) example with multiple features\n",
    "        y (ndarray): Shape (n,) model parameters\n",
    "        b (scalar): model parameter\n",
    "\n",
    "    Returns: \n",
    "        p (scalar): prediction\n",
    "    \"\"\"\n",
    "\n",
    "    n = x.shape[0]\n",
    "    p = 0\n",
    "    for i in range(n):\n",
    "        p_i = x[i] * w[i]\n",
    "        p = p + p_i\n",
    "    p = p + b\n",
    "    return p"
   ]
  },
  {
   "cell_type": "code",
   "execution_count": 11,
   "metadata": {},
   "outputs": [
    {
     "name": "stdout",
     "output_type": "stream",
     "text": [
      "x_vect Shape: (4,), x_vect value: [2104    5    1   45]\n",
      "f_wb Shape: (), prediction: 457.2299999999999\n"
     ]
    }
   ],
   "source": [
    "#get a row from our training data\n",
    "x_vect = X_train[0,:]\n",
    "print(f\"x_vect Shape: {x_vect.shape}, x_vect value: {x_vect}\")\n",
    "\n",
    "#make a prediction\n",
    "f_wb = predict_single_loop(x_vect, w_init, b_init)\n",
    "print(f\"f_wb Shape: {f_wb.shape}, prediction: {f_wb}\")"
   ]
  },
  {
   "cell_type": "code",
   "execution_count": null,
   "metadata": {},
   "outputs": [],
   "source": []
  }
 ],
 "metadata": {
  "language_info": {
   "name": "python"
  }
 },
 "nbformat": 4,
 "nbformat_minor": 2
}
