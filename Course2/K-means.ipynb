{
 "cells": [
  {
   "cell_type": "code",
   "execution_count": 13,
   "id": "847f10cc",
   "metadata": {},
   "outputs": [],
   "source": [
    "import numpy as np\n",
    "import matplotlib.pyplot as plt"
   ]
  },
  {
   "cell_type": "code",
   "execution_count": 14,
   "id": "af14a6a7",
   "metadata": {},
   "outputs": [],
   "source": [
    "data = np.load(\"data/Kmeans/Kmeans_data.npy\")"
   ]
  },
  {
   "cell_type": "code",
   "execution_count": 15,
   "id": "90fbdd35",
   "metadata": {},
   "outputs": [
    {
     "name": "stdout",
     "output_type": "stream",
     "text": [
      "First five elements of X are:\n",
      " [[1.84207953 4.6075716 ]\n",
      " [5.65858312 4.79996405]\n",
      " [6.35257892 3.2908545 ]\n",
      " [2.90401653 4.61220411]\n",
      " [3.23197916 4.93989405]]\n",
      "The shape of X is: (300, 2)\n"
     ]
    }
   ],
   "source": [
    "print(\"First five elements of X are:\\n\", data[:5]) \n",
    "print('The shape of X is:', data.shape)"
   ]
  },
  {
   "cell_type": "code",
   "execution_count": 16,
   "id": "b2829ee5",
   "metadata": {},
   "outputs": [],
   "source": [
    "X = data[:,0]\n",
    "Y = data[:,1]"
   ]
  },
  {
   "cell_type": "code",
   "execution_count": 17,
   "id": "434d8f15",
   "metadata": {},
   "outputs": [
    {
     "data": {
      "text/plain": [
       "<matplotlib.collections.PathCollection at 0x74d2ce465ed0>"
      ]
     },
     "execution_count": 17,
     "metadata": {},
     "output_type": "execute_result"
    },
    {
     "data": {
      "image/png": "[encoded data removed]",
      "text/plain": [
       "<Figure size 640x480 with 1 Axes>"
      ]
     },
     "metadata": {},
     "output_type": "display_data"
    }
   ],
   "source": [
    "plt.scatter(X,Y)"
   ]
  },
  {
   "cell_type": "code",
   "execution_count": 30,
   "id": "3ebc1083",
   "metadata": {},
   "outputs": [],
   "source": [
    "X_w = np.array([[9,8],[2,7],[1,11]])"
   ]
  },
  {
   "cell_type": "code",
   "execution_count": 31,
   "id": "6bd76f41",
   "metadata": {},
   "outputs": [
    {
     "name": "stdout",
     "output_type": "stream",
     "text": [
      "[[ 9  8]\n",
      " [ 2  7]\n",
      " [ 1 11]]\n"
     ]
    }
   ],
   "source": [
    "print(X_w)"
   ]
  },
  {
   "cell_type": "code",
   "execution_count": 33,
   "id": "e343ee66",
   "metadata": {},
   "outputs": [
    {
     "name": "stdout",
     "output_type": "stream",
     "text": [
      "(3, 2)\n"
     ]
    }
   ],
   "source": [
    "print(X_w.shape)"
   ]
  },
  {
   "cell_type": "code",
   "execution_count": 34,
   "id": "b1147f54",
   "metadata": {},
   "outputs": [],
   "source": [
    "tmp_0 = []"
   ]
  },
  {
   "cell_type": "code",
   "execution_count": 35,
   "id": "62a52639",
   "metadata": {},
   "outputs": [],
   "source": [
    "tmp_0.append(X[0])"
   ]
  },
  {
   "cell_type": "code",
   "execution_count": 36,
   "id": "bda992f4",
   "metadata": {},
   "outputs": [
    {
     "name": "stdout",
     "output_type": "stream",
     "text": [
      "[[9, 8]]\n"
     ]
    }
   ],
   "source": [
    "print(tmp_0)"
   ]
  },
  {
   "cell_type": "code",
   "execution_count": 37,
   "id": "6383aa16",
   "metadata": {},
   "outputs": [
    {
     "data": {
      "text/plain": [
       "1"
      ]
     },
     "execution_count": 37,
     "metadata": {},
     "output_type": "execute_result"
    }
   ],
   "source": [
    "len(tmp_0)"
   ]
  },
  {
   "cell_type": "code",
   "execution_count": 38,
   "id": "0dd8693d",
   "metadata": {},
   "outputs": [],
   "source": [
    "tm_00 = np.array(tmp_0)"
   ]
  },
  {
   "cell_type": "code",
   "execution_count": 39,
   "id": "2c947684",
   "metadata": {},
   "outputs": [
    {
     "name": "stdout",
     "output_type": "stream",
     "text": [
      "[[9 8]]\n"
     ]
    }
   ],
   "source": [
    "print(tm_00)"
   ]
  },
  {
   "cell_type": "code",
   "execution_count": 40,
   "id": "b056216f",
   "metadata": {},
   "outputs": [
    {
     "data": {
      "text/plain": [
       "(1, 2)"
      ]
     },
     "execution_count": 40,
     "metadata": {},
     "output_type": "execute_result"
    }
   ],
   "source": [
    "tm_00.shape"
   ]
  },
  {
   "cell_type": "code",
   "execution_count": 41,
   "id": "f7fad11d",
   "metadata": {},
   "outputs": [
    {
     "name": "stdout",
     "output_type": "stream",
     "text": [
      "[2, 7]\n"
     ]
    }
   ],
   "source": [
    "print(X[1])"
   ]
  },
  {
   "cell_type": "code",
   "execution_count": 42,
   "id": "7a624cae",
   "metadata": {},
   "outputs": [],
   "source": [
    "tmp_0.append(X[1])"
   ]
  },
  {
   "cell_type": "code",
   "execution_count": 43,
   "id": "f4280e84",
   "metadata": {},
   "outputs": [
    {
     "name": "stdout",
     "output_type": "stream",
     "text": [
      "[[9, 8], [2, 7]]\n"
     ]
    }
   ],
   "source": [
    "print(tmp_0)"
   ]
  },
  {
   "cell_type": "code",
   "execution_count": 44,
   "id": "07de7731",
   "metadata": {},
   "outputs": [
    {
     "data": {
      "text/plain": [
       "2"
      ]
     },
     "execution_count": 44,
     "metadata": {},
     "output_type": "execute_result"
    }
   ],
   "source": [
    "len(tmp_0)"
   ]
  },
  {
   "cell_type": "code",
   "execution_count": 45,
   "id": "eaa67f2c",
   "metadata": {},
   "outputs": [],
   "source": [
    "tmp_000 = np.array(tmp_0)"
   ]
  },
  {
   "cell_type": "code",
   "execution_count": 46,
   "id": "93854005",
   "metadata": {},
   "outputs": [
    {
     "name": "stdout",
     "output_type": "stream",
     "text": [
      "[[9 8]\n",
      " [2 7]]\n"
     ]
    }
   ],
   "source": [
    "print(tmp_000)"
   ]
  },
  {
   "cell_type": "code",
   "execution_count": 47,
   "id": "86a52bef",
   "metadata": {},
   "outputs": [
    {
     "data": {
      "text/plain": [
       "(2, 2)"
      ]
     },
     "execution_count": 47,
     "metadata": {},
     "output_type": "execute_result"
    }
   ],
   "source": [
    "tmp_000.shape"
   ]
  },
  {
   "cell_type": "code",
   "execution_count": null,
   "id": "2a1bab67",
   "metadata": {},
   "outputs": [],
   "source": [
    "# UNQ_C2\n",
    "# GRADED FUNCTION: compute_centroids\n",
    "\n",
    "def compute_centroids(X, idx, K):\n",
    "    \"\"\"\n",
    "    Returns the new centroids by computing the means of the \n",
    "    data points assigned to each centroid.\n",
    "    \n",
    "    Args:\n",
    "        X (ndarray):   (m, n) Data points\n",
    "        idx (ndarray): (m,) Array containing index of closest centroid for each \n",
    "                       example in X. Concretely, idx[i] contains the index of \n",
    "                       the centroid closest to example i\n",
    "        K (int):       number of centroids\n",
    "    \n",
    "    Returns:\n",
    "        centroids (ndarray): (K, n) New centroids computed\n",
    "    \"\"\"\n",
    "    \n",
    "    # Useful variables\n",
    "    m, n = X.shape\n",
    "    \n",
    "    # You need to return the following variables correctly\n",
    "    centroids = np.zeros((K, n))\n",
    "    \n",
    "    ### START CODE HERE ###\n",
    "    for i in range(K):\n",
    "        tmp_i = []\n",
    "        for j in range(len(idx)):\n",
    "            if idx[j] == i:\n",
    "                tmp_i.append(X[j])\n",
    "            final_i = np.array(tmp_i)\n",
    "        mean_i = sum(final_i)/len(final_i)\n",
    "        centroids[i] = mean_i\n",
    "    ### END CODE HERE ## \n",
    "    \n",
    "    return centroids"
   ]
  }
 ],
 "metadata": {
  "kernelspec": {
   "display_name": "DataScience",
   "language": "python",
   "name": "python3"
  },
  "language_info": {
   "codemirror_mode": {
    "name": "ipython",
    "version": 3
   },
   "file_extension": ".py",
   "mimetype": "text/x-python",
   "name": "python",
   "nbconvert_exporter": "python",
   "pygments_lexer": "ipython3",
   "version": "3.11.9"
  }
 },
 "nbformat": 4,
 "nbformat_minor": 5
}
